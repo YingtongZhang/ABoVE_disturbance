{
 "cells": [
  {
   "cell_type": "code",
   "execution_count": 1,
   "metadata": {},
   "outputs": [],
   "source": [
    "from osgeo import gdal, gdal_array, osr, ogr\n",
    "import numpy as np\n",
    "import logging\n",
    "import click\n",
    "import pdb\n",
    "from IPython.core.debugger import set_trace\n",
    "from scipy import stats"
   ]
  },
  {
   "cell_type": "code",
   "execution_count": 18,
   "metadata": {},
   "outputs": [],
   "source": [
    "#@click.command()\n",
    "#@click.option('--tile_name', default='Bh13v15', help='Name of the tile, for example: Bh13v15')\n",
    "tile_name = 'Bh12v11'\n",
    "combine_dir = r'/projectnb/landsat/projects/ABOVE/CCDC/{0}/new_map/out_classes/'.format(tile_name)\n",
    "fireDB_path = r'/projectnb/landsat/users/shijuan/above/ABOVE_fires_new/ABOVE_fireDB/' + tile_name + '/'\n",
    "\n",
    "#output_dir = r'/projectnb/landsat/projects/ABOVE/CCDC/{0}/new_map/out_pp/reremap/'.format(tile_name)\n",
    "output_dir = r'/projectnb/landsat/users/zhangyt/above/ABOVE_fires/Additional_FDB/{0}/thre_0.2/test_31/'.format(tile_name)"
   ]
  },
  {
   "cell_type": "code",
   "execution_count": 19,
   "metadata": {},
   "outputs": [],
   "source": [
    "logger = logging.getLogger('post_pro_agr')\n",
    "fill = -32767\n",
    "window_size = 21\n",
    "n = window_size\n",
    "k = int((n - 1) / 2)\n",
    "\n",
    "window_threshold = 0.2"
   ]
  },
  {
   "cell_type": "code",
   "execution_count": 20,
   "metadata": {},
   "outputs": [],
   "source": [
    "def write_output(raster, output, grid_info, gdal_frmt, band_names=None, ndv=fill):\n",
    "    \"\"\" Write raster to output file \"\"\"   \n",
    "\n",
    "    logger.debug('Writing output to disk')\n",
    "    driver = gdal.GetDriverByName(str(gdal_frmt))\n",
    "\n",
    "    if len(raster.shape) > 2:\n",
    "        nband = raster.shape[2]\n",
    "    else:\n",
    "        nband = 1\n",
    "\n",
    "    ds = driver.Create(\n",
    "        output,\n",
    "        grid_info['ncols'], grid_info['nrows'], nband,\n",
    "        gdal_array.NumericTypeCodeToGDALTypeCode(raster.dtype.type)\n",
    "    )\n",
    "\n",
    "    if band_names is not None:\n",
    "        if len(band_names) != nband:\n",
    "            logger.error('Did not get enough names for all bands')\n",
    "            sys.exit(1)\n",
    "\n",
    "    if raster.ndim > 2:\n",
    "        for b in range(nband):\n",
    "            logger.debug('    writing band {b}'.format(b=b + 1))\n",
    "            ds.GetRasterBand(b + 1).WriteArray(raster[:, :, b])\n",
    "            ds.GetRasterBand(b + 1).SetNoDataValue(ndv)\n",
    "\n",
    "            if band_names is not None:\n",
    "                ds.GetRasterBand(b + 1).SetDescription(band_names[b])\n",
    "                ds.GetRasterBand(b + 1).SetMetadata({\n",
    "                    'band_{i}'.format(i=b + 1): band_names[b]\n",
    "                })\n",
    "    else:\n",
    "        logger.debug('    writing band')\n",
    "        ds.GetRasterBand(1).WriteArray(raster)\n",
    "        ds.GetRasterBand(1).SetNoDataValue(ndv)\n",
    "\n",
    "        if band_names is not None:\n",
    "            ds.GetRasterBand(1).SetDescription(band_names[0])\n",
    "            ds.GetRasterBand(1).SetMetadata({'band_1': band_names[0]})\n",
    "    #print(grid_info[\"projection\"])\n",
    "    ds.SetProjection(grid_info[\"projection\"])\n",
    "    ## the geo transform goes - ulx, pix_x(w-e pixel resolution), easting, uly, northing, pix_y(n-s pixel resolution, negative value)\n",
    "    ds.SetGeoTransform((grid_info[\"ulx\"],grid_info[\"pix_x\"],0,\n",
    "                        grid_info[\"uly\"],0,grid_info[\"pix_y\"]))\n",
    "\n",
    "    ds = None\n"
   ]
  },
  {
   "cell_type": "code",
   "execution_count": 21,
   "metadata": {},
   "outputs": [],
   "source": [
    "def generate_add_fire_perm(tile_name, combine_dir, fireDB_path, output_dir):\n",
    "    \n",
    "    #year_avail = np.arange(1986, 2014, dtype=np.int16)\n",
    "    year_avail = np.arange(2000, 2005, dtype=np.int16)\n",
    "    nrows=6000\n",
    "    ncols=6000\n",
    "    \n",
    "    for year in year_avail:\n",
    "        print(year)\n",
    "        # the fire database of three-year-range(before, middle, after) --- (before2, before1, current)\n",
    "        fireYear = []\n",
    "        cc_file = []\n",
    "        \n",
    "        #for i in range(-1, 2):\n",
    "        for i in range(-2, 1):\n",
    "            fireDB_filename = ('{0}_fireDB_{1}.tif').format(tile_name, year + i)\n",
    "            fireYear.append(fireDB_path + fireDB_filename)\n",
    "        \n",
    "        # fire database\n",
    "        fdb_ds0 = gdal.Open(fireYear[0])\n",
    "        fdb_raster0 = fdb_ds0.ReadAsArray()\n",
    "        fdb_array0 = np.array(fdb_raster0)\n",
    "    \n",
    "        fdb_ds1 = gdal.Open(fireYear[1])\n",
    "        fdb_raster1 = fdb_ds1.ReadAsArray()\n",
    "        fdb_array1 = np.array(fdb_raster1)\n",
    "    \n",
    "        fdb_ds2 = gdal.Open(fireYear[2])\n",
    "        fdb_raster2 = fdb_ds2.ReadAsArray()\n",
    "        fdb_array2 = np.array(fdb_raster2)\n",
    "        \n",
    "        # disturbance maps\n",
    "        cc_file = combine_dir + tile_name +'_FF_FN_NF_NN_' + str(year) + '_cl.tif'\n",
    "        cc_ds = gdal.Open(cc_file)\n",
    "        cc_raster = cc_ds.ReadAsArray()\n",
    "        cc_array = np.array(cc_raster)\n",
    "        \n",
    "        \n",
    "        # initialize\n",
    "        map_array = np.ones((nrows, ncols, 1), dtype=np.float32) * 0 \n",
    "        \n",
    "        ##preserve the border\n",
    "        #map_array = cc_array[0:k+1, :]\n",
    "        #map_array[:,0:k+1, 0] = cc_array[:, 0:k+1]\n",
    "        #map_array[nrows-k:nrows,:,0] = cc_array[nrows-k:nrows, :]\n",
    "        #map_array[:, nrows-k:nrows,0] = cc_array[:, nrows-k:nrows]\n",
    "        \n",
    "        \n",
    "        # if the pixel is FN fire (3)\n",
    "        for i in np.arange(0, nrows ):\n",
    "            for j in np.arange(0, ncols):  \n",
    "                cc = int(cc_array[i, j])\n",
    "\n",
    "                if cc == 3:\n",
    "                    if (fdb_array0[i, j] == 1 or fdb_array1[i, j] == 1 or fdb_array2[i, j] == 1):\n",
    "                        map_array[i, j, 0] =  0\n",
    "                    else:\n",
    "                        map_array[i, j, 0] =  1\n",
    "                else:\n",
    "                    map_array[i, j, 0] = 0\n",
    "                    \n",
    "        # take the average in the moving window\n",
    "        for i in np.arange(k, nrows - k):\n",
    "            for j in np.arange(k, ncols - k):  \n",
    "                cc = int(map_array[i, j])\n",
    "\n",
    "                tmp_window = map_array[i-k:i+k+1, j-k:j+k+1, 0]\n",
    "                window = np.array(tmp_window)\n",
    "                window = np.reshape(window, n * n)\n",
    "                window_average = np.average(window)\n",
    "                if window_average > window_threshold:\n",
    "                    map_array[i, j, 0] = window_average\n",
    "                else:\n",
    "                    map_array[i, j, 0] = 0\n",
    "        \n",
    "        FDB_map_name = tile_name +'_FDB_add_' + str(year) +'.tif'\n",
    "        outfile = output_dir + FDB_map_name\n",
    "\n",
    "        img_file = gdal.Open(cc_file)\n",
    "        geo_info = img_file.GetGeoTransform()\n",
    "        ulx = geo_info[0]\n",
    "        pix_x = geo_info[1]\n",
    "        uly = geo_info[3]\n",
    "        pix_y = geo_info[5]\n",
    "        cols = img_file.RasterXSize\n",
    "        rows = img_file.RasterYSize\n",
    "        proj_info = img_file.GetProjection()\n",
    "        grid_info = {'nrows':rows, 'ncols':cols, 'projection':proj_info, \n",
    "                     'ulx':ulx, 'pix_x':pix_x, 'uly':uly, 'pix_y':pix_y}\n",
    "        gdal_frmt = 'GTiff'\n",
    "        write_output(map_array, outfile, grid_info, gdal_frmt, band_names=None, ndv=fill)\n",
    "        \n",
    "        print(year, \"completed\")\n"
   ]
  },
  {
   "cell_type": "code",
   "execution_count": null,
   "metadata": {
    "scrolled": true
   },
   "outputs": [
    {
     "name": "stdout",
     "output_type": "stream",
     "text": [
      "2000\n",
      "2000 completed\n",
      "2001\n"
     ]
    }
   ],
   "source": [
    "generate_add_fire_perm(tile_name, combine_dir, fireDB_path, output_dir)"
   ]
  },
  {
   "cell_type": "code",
   "execution_count": null,
   "metadata": {
    "scrolled": true
   },
   "outputs": [],
   "source": []
  },
  {
   "cell_type": "code",
   "execution_count": null,
   "metadata": {},
   "outputs": [],
   "source": [
    "\n",
    "\n",
    "\n",
    "\n",
    "\n"
   ]
  },
  {
   "cell_type": "code",
   "execution_count": null,
   "metadata": {},
   "outputs": [],
   "source": [
    "\n"
   ]
  },
  {
   "cell_type": "code",
   "execution_count": null,
   "metadata": {},
   "outputs": [],
   "source": [
    "\n",
    "\n",
    "\n",
    "\n",
    "\n",
    "\n",
    "\n",
    "\n",
    "\n",
    "\n",
    "\n"
   ]
  }
 ],
 "metadata": {
  "kernelspec": {
   "display_name": "Python 3",
   "language": "python",
   "name": "python3"
  },
  "language_info": {
   "codemirror_mode": {
    "name": "ipython",
    "version": 3
   },
   "file_extension": ".py",
   "mimetype": "text/x-python",
   "name": "python",
   "nbconvert_exporter": "python",
   "pygments_lexer": "ipython3",
   "version": "3.7.3"
  }
 },
 "nbformat": 4,
 "nbformat_minor": 2
}
