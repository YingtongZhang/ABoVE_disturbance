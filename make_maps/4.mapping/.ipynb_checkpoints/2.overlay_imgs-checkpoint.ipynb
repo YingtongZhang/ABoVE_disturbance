{
 "cells": [
  {
   "cell_type": "code",
   "execution_count": 9,
   "metadata": {},
   "outputs": [],
   "source": [
    "import os\n",
    "import logging\n",
    "import click\n",
    "import numpy as np\n",
    "import fnmatch\n",
    "\n",
    "from osgeo import gdal, gdal_array, osr, ogr\n",
    "from IPython.core.debugger import set_trace\n",
    "from scipy import stats"
   ]
  },
  {
   "cell_type": "code",
   "execution_count": 5,
   "metadata": {},
   "outputs": [],
   "source": [
    "logger = logging.getLogger('post_pro_agr')\n",
    "fill = -32767\n",
    "tile_name = \"Bh09v15\"\n",
    "\n",
    "root = \"/projectnb/landsat/users/zhangyt/above/pngs/chips/\"\n",
    "ori = root + \"tifs/\"\n",
    "des = root + \"tifs_overlay/\""
   ]
  },
  {
   "cell_type": "code",
   "execution_count": 3,
   "metadata": {},
   "outputs": [],
   "source": [
    "def get_files(path, pattern, recursive=True):\n",
    "    \"\"\" search files with pattern\n",
    "\n",
    "    Args:\n",
    "        path (str): location to search in\n",
    "        pattern (str): searching pattern\n",
    "\n",
    "    Returns:\n",
    "        file_list (list): list of files, [path, name]\n",
    "\n",
    "    \"\"\"\n",
    "    if recursive:\n",
    "        return [[x[0], x[1]] for x in [[pn, f] for pn, dn, fn in os.walk(path)\n",
    "                for f in fn] if fnmatch.fnmatch(x[1],pattern)]\n",
    "    else:\n",
    "        return [[path, f] for f in fnmatch.filter(os.listdir(path), pattern)]"
   ]
  },
  {
   "cell_type": "code",
   "execution_count": 25,
   "metadata": {},
   "outputs": [],
   "source": [
    "def get_year(x, start=0, _format='YYYY'):\n",
    "    \"\"\" extract year from filename\n",
    "    Args:\n",
    "        x (str): filename\n",
    "        start (int): year starting index\n",
    "        _format (str): format of the date, e.g. YYYY\n",
    "        can be modified to get date\n",
    "    Returns:\n",
    "        Year (int): year\n",
    "    \"\"\"\n",
    "    return int(x[start:(start + len(_format))])"
   ]
  },
  {
   "cell_type": "code",
   "execution_count": 28,
   "metadata": {},
   "outputs": [],
   "source": [
    "# MAPPING UTILITIES\n",
    "def write_output(raster, output, grid_info, gdal_frmt, band_names=None, ndv=fill):\n",
    "    \"\"\" Write raster to output file \"\"\"   \n",
    "\n",
    "    logger.debug('Writing output to disk')\n",
    "    driver = gdal.GetDriverByName(str(gdal_frmt))\n",
    "\n",
    "    if len(raster.shape) > 2:\n",
    "        nband = raster.shape[2]\n",
    "    else:\n",
    "        nband = 1\n",
    "\n",
    "    ds = driver.Create(\n",
    "        output,\n",
    "        grid_info['ncols'], grid_info['nrows'], nband,\n",
    "        gdal_array.NumericTypeCodeToGDALTypeCode(raster.dtype.type)\n",
    "    )\n",
    "\n",
    "    if band_names is not None:\n",
    "        if len(band_names) != nband:\n",
    "            logger.error('Did not get enough names for all bands')\n",
    "            sys.exit(1)\n",
    "\n",
    "    if raster.ndim > 2:\n",
    "        for b in range(nband):\n",
    "            logger.debug('    writing band {b}'.format(b=b + 1))\n",
    "            ds.GetRasterBand(b + 1).WriteArray(raster[:, :, b])\n",
    "            ds.GetRasterBand(b + 1).SetNoDataValue(ndv)\n",
    "\n",
    "            if band_names is not None:\n",
    "                ds.GetRasterBand(b + 1).SetDescription(band_names[b])\n",
    "                ds.GetRasterBand(b + 1).SetMetadata({\n",
    "                    'band_{i}'.format(i=b + 1): band_names[b]\n",
    "                })\n",
    "    else:\n",
    "        logger.debug('    writing band')\n",
    "        ds.GetRasterBand(1).WriteArray(raster)\n",
    "        ds.GetRasterBand(1).SetNoDataValue(ndv)\n",
    "\n",
    "        if band_names is not None:\n",
    "            ds.GetRasterBand(1).SetDescription(band_names[0])\n",
    "            ds.GetRasterBand(1).SetMetadata({'band_1': band_names[0]})\n",
    "    #print(grid_info[\"projection\"])\n",
    "    ds.SetProjection(grid_info[\"projection\"])\n",
    "    ## the geo transform goes - ulx, pix_x(w-e pixel resolution), easting, uly, northing, pix_y(n-s pixel resolution, negative value)\n",
    "    ds.SetGeoTransform((grid_info[\"ulx\"],grid_info[\"pix_x\"],0,\n",
    "                        grid_info[\"uly\"],0,grid_info[\"pix_y\"]))\n",
    "\n",
    "    ds = None"
   ]
  },
  {
   "cell_type": "code",
   "execution_count": null,
   "metadata": {},
   "outputs": [],
   "source": []
  },
  {
   "cell_type": "code",
   "execution_count": null,
   "metadata": {},
   "outputs": [],
   "source": []
  },
  {
   "cell_type": "code",
   "execution_count": 44,
   "metadata": {},
   "outputs": [
    {
     "name": "stdout",
     "output_type": "stream",
     "text": [
      "1987\n"
     ]
    },
    {
     "ename": "NameError",
     "evalue": "name 'img_file' is not defined",
     "output_type": "error",
     "traceback": [
      "\u001b[0;31m---------------------------------------------------------------------------\u001b[0m",
      "\u001b[0;31mNameError\u001b[0m                                 Traceback (most recent call last)",
      "\u001b[0;32m<ipython-input-44-b56b78047315>\u001b[0m in \u001b[0;36m<module>\u001b[0;34m\u001b[0m\n\u001b[1;32m     20\u001b[0m         \u001b[0muly\u001b[0m \u001b[0;34m=\u001b[0m \u001b[0mgeo_info\u001b[0m\u001b[0;34m[\u001b[0m\u001b[0;36m3\u001b[0m\u001b[0;34m]\u001b[0m\u001b[0;34m\u001b[0m\u001b[0;34m\u001b[0m\u001b[0m\n\u001b[1;32m     21\u001b[0m         \u001b[0mpix_y\u001b[0m \u001b[0;34m=\u001b[0m \u001b[0mgeo_info\u001b[0m\u001b[0;34m[\u001b[0m\u001b[0;36m5\u001b[0m\u001b[0;34m]\u001b[0m\u001b[0;34m\u001b[0m\u001b[0;34m\u001b[0m\u001b[0m\n\u001b[0;32m---> 22\u001b[0;31m         \u001b[0mcols\u001b[0m \u001b[0;34m=\u001b[0m \u001b[0mimg_file\u001b[0m\u001b[0;34m.\u001b[0m\u001b[0mRasterXSize\u001b[0m\u001b[0;34m\u001b[0m\u001b[0;34m\u001b[0m\u001b[0m\n\u001b[0m\u001b[1;32m     23\u001b[0m         \u001b[0mrows\u001b[0m \u001b[0;34m=\u001b[0m \u001b[0mimg_file\u001b[0m\u001b[0;34m.\u001b[0m\u001b[0mRasterYSize\u001b[0m\u001b[0;34m\u001b[0m\u001b[0;34m\u001b[0m\u001b[0m\n\u001b[1;32m     24\u001b[0m         \u001b[0mproj_info\u001b[0m \u001b[0;34m=\u001b[0m \u001b[0mimg_file\u001b[0m\u001b[0;34m.\u001b[0m\u001b[0mGetProjection\u001b[0m\u001b[0;34m(\u001b[0m\u001b[0;34m)\u001b[0m\u001b[0;34m\u001b[0m\u001b[0;34m\u001b[0m\u001b[0m\n",
      "\u001b[0;31mNameError\u001b[0m: name 'img_file' is not defined"
     ]
    }
   ],
   "source": [
    "\n",
    "img_list = get_files(ori, '*{}.tif'.format(tile_name))\n",
    "\n",
    "for img in sorted(img_list):\n",
    "    mp = os.path.join(img[0], img[1])\n",
    "    image = gdal.Open(mp, gdal.GA_ReadOnly)\n",
    "    array = image.GetRasterBand(1).ReadAsArray().astype(np.int16)\n",
    "    \n",
    "    nrows=array.shape[0]\n",
    "    ncols=array.shape[1]\n",
    "    \n",
    "    y = get_year(img[1])\n",
    "    print(y)\n",
    "    if y == 1987:\n",
    "        stack_array = array\n",
    "        outfile = os.path.join(des, img[1])\n",
    "\n",
    "        geo_info = image.GetGeoTransform()\n",
    "        ulx = geo_info[0]\n",
    "        pix_x = geo_info[1]\n",
    "        uly = geo_info[3]\n",
    "        pix_y = geo_info[5]\n",
    "        cols = image.RasterXSize\n",
    "        rows = image.RasterYSize\n",
    "        proj_info = image.GetProjection()\n",
    "        grid_info = {'nrows':rows, 'ncols':cols, 'projection':proj_info, \n",
    "                     'ulx':ulx, 'pix_x':pix_x, 'uly':uly, 'pix_y':pix_y}\n",
    "        gdal_frmt = 'GTiff'\n",
    "        write_output(array, outfile, grid_info, gdal_frmt, band_names=None, ndv=fill)    \n",
    "        \n",
    "    else:\n",
    "        # get stacked images\n",
    "        last_year = str(y-1)\n",
    "        ofile = get_files(des, '{}*.tif'.format(last_year))\n",
    "        mp0 = os.path.join(ofile[0][0], ofile[0][1])\n",
    "        image0 = gdal.Open(mp0, gdal.GA_ReadOnly)\n",
    "        array0 = image0.GetRasterBand(1).ReadAsArray().astype(np.int16)\n",
    "        \n",
    "        for i in np.arange(0, nrows):\n",
    "            for j in np.arange(0, ncols):\n",
    "                \n",
    "                if array[i,j,0] == fill:\n",
    "                    array[i, j, 0] = array0[i, j, 0]\n",
    "        \n",
    "        \n",
    "        outfile = os.path.join(des, img[1])\n",
    "\n",
    "        geo_info = image.GetGeoTransform()\n",
    "        ulx = geo_info[0]\n",
    "        pix_x = geo_info[1]\n",
    "        uly = geo_info[3]\n",
    "        pix_y = geo_info[5]\n",
    "        cols = image.RasterXSize\n",
    "        rows = image.RasterYSize\n",
    "        proj_info = image.GetProjection()\n",
    "        grid_info = {'nrows':rows, 'ncols':cols, 'projection':proj_info, \n",
    "                     'ulx':ulx, 'pix_x':pix_x, 'uly':uly, 'pix_y':pix_y}\n",
    "        gdal_frmt = 'GTiff'\n",
    "        write_output(array, outfile, grid_info, gdal_frmt, band_names=None, ndv=fill)    \n",
    "  "
   ]
  },
  {
   "cell_type": "code",
   "execution_count": 41,
   "metadata": {},
   "outputs": [],
   "source": []
  },
  {
   "cell_type": "code",
   "execution_count": null,
   "metadata": {},
   "outputs": [],
   "source": []
  },
  {
   "cell_type": "code",
   "execution_count": null,
   "metadata": {},
   "outputs": [],
   "source": [
    "\n",
    "\n",
    "\n",
    "\n",
    "\n",
    "\n",
    "\n"
   ]
  }
 ],
 "metadata": {
  "kernelspec": {
   "display_name": "Python 3",
   "language": "python",
   "name": "python3"
  },
  "language_info": {
   "codemirror_mode": {
    "name": "ipython",
    "version": 3
   },
   "file_extension": ".py",
   "mimetype": "text/x-python",
   "name": "python",
   "nbconvert_exporter": "python",
   "pygments_lexer": "ipython3",
   "version": "3.7.3"
  }
 },
 "nbformat": 4,
 "nbformat_minor": 2
}
